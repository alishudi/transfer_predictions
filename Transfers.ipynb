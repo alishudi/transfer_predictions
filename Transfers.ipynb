{
  "nbformat": 4,
  "nbformat_minor": 0,
  "metadata": {
    "colab": {
      "name": "Transfers.ipynb",
      "provenance": [],
      "collapsed_sections": [
        "Qr-x56AURuzv"
      ],
      "toc_visible": true
    },
    "kernelspec": {
      "name": "python3",
      "display_name": "Python 3"
    }
  },
  "cells": [
    {
      "cell_type": "code",
      "metadata": {
        "id": "6AYd0H-cJO2K"
      },
      "source": [
        "import pandas as pd\r\n",
        "import requests\r\n",
        "import io"
      ],
      "execution_count": null,
      "outputs": []
    },
    {
      "cell_type": "markdown",
      "metadata": {
        "id": "6wHfwFn-ddaQ"
      },
      "source": [
        "# Обработка"
      ]
    },
    {
      "cell_type": "markdown",
      "metadata": {
        "id": "ruY3SibvTjKv"
      },
      "source": [
        "Соберем все нужные сезоны, полная статистика на fbref есть начиная с сезона 17/18, значит нам нужны трансферы с сезона 18/19 (чтобы была статистика по сезону до перехода) То есть сезоны 18/19, 19/20 и 20/21 (можно убрать 20/21).\r\n"
      ]
    },
    {
      "cell_type": "code",
      "metadata": {
        "id": "NiLotuFZThqi"
      },
      "source": [
        "years = [\"2018\", \"2019\", \"2020\"]\r\n",
        "comps = [\"english_premier_league\", \"german_bundesliga_1\", \"italian_serie_a\", \"french_ligue_1\", \"spanish_primera_division\"]\r\n",
        "frames = {}\r\n",
        "season_names = []\r\n",
        "for year in years:\r\n",
        "  for comp in comps:\r\n",
        "    url = \"https://raw.githubusercontent.com/ewenme/transfers/master/data/\" + year + \"/\" + comp + \".csv\"\r\n",
        "    download = requests.get(url).content\r\n",
        "    df = pd.read_csv(io.StringIO(download.decode('utf-8')))\r\n",
        "    df = df[df['transfer_movement'] == 'in']\r\n",
        "    #df = df[df['fee'] != 'Loan']\r\n",
        "    #df = df[df['fee'].str.match('^E.*') == False]\r\n",
        "    name = comp[:2] + \"_\" + year[2:]\r\n",
        "    frames[name] = df\r\n",
        "    season_names.append(name)"
      ],
      "execution_count": null,
      "outputs": []
    },
    {
      "cell_type": "markdown",
      "metadata": {
        "id": "F36vsNJ5duUP"
      },
      "source": [
        "Теперь нужно оставить только трансферы из команд выступавших в прошлом сезоне (для зимних - в этом) в отдной из топ 5 лиг. Составим для каждого сезона список команд игравших в топ 5 лигах."
      ]
    },
    {
      "cell_type": "code",
      "metadata": {
        "id": "f9_dQMSSgK-I"
      },
      "source": [
        "teams = {}\r\n",
        "club_names = []\r\n",
        "for comp in comps:\r\n",
        "  url = \"https://raw.githubusercontent.com/ewenme/transfers/master/data/\" + \"2017\" + \"/\" + comp + \".csv\"\r\n",
        "  download = requests.get(url).content\r\n",
        "  df = pd.read_csv(io.StringIO(download.decode('utf-8')))\r\n",
        "  club_names += df['club_name'].unique().tolist()\r\n",
        "\r\n",
        "teams[\"2017\"] = club_names\r\n",
        "\r\n",
        "for year in years:\r\n",
        "  club_names = []\r\n",
        "  for comp in comps:\r\n",
        "    name = comp[:2] + \"_\" + year[2:]\r\n",
        "    club_names += frames[name]['club_name'].unique().tolist()\r\n",
        "\r\n",
        "  teams[year] = club_names"
      ],
      "execution_count": null,
      "outputs": []
    },
    {
      "cell_type": "code",
      "metadata": {
        "id": "dzyjCGNOjAD9",
        "colab": {
          "base_uri": "https://localhost:8080/"
        },
        "outputId": "fa0c7a55-e5d7-4313-d8a6-8c75c1d0c759"
      },
      "source": [
        "teams['2017']"
      ],
      "execution_count": null,
      "outputs": [
        {
          "output_type": "execute_result",
          "data": {
            "text/plain": [
              "['Chelsea FC',\n",
              " 'Tottenham Hotspur',\n",
              " 'Manchester City',\n",
              " 'Liverpool FC',\n",
              " 'Arsenal FC',\n",
              " 'Manchester United',\n",
              " 'Everton FC',\n",
              " 'Southampton FC',\n",
              " 'AFC Bournemouth',\n",
              " 'West Bromwich Albion',\n",
              " 'West Ham United',\n",
              " 'Leicester City',\n",
              " 'Stoke City',\n",
              " 'Crystal Palace',\n",
              " 'Swansea City',\n",
              " 'Burnley FC',\n",
              " 'Watford FC',\n",
              " 'Newcastle United',\n",
              " 'Brighton & Hove Albion',\n",
              " 'Huddersfield Town',\n",
              " 'Bayern Munich',\n",
              " 'RB Leipzig',\n",
              " 'Borussia Dortmund',\n",
              " 'TSG 1899 Hoffenheim',\n",
              " '1. FC Köln',\n",
              " 'Hertha BSC',\n",
              " 'SC Freiburg',\n",
              " 'SV Werder Bremen',\n",
              " 'Borussia Mönchengladbach',\n",
              " 'FC Schalke 04',\n",
              " 'Eintracht Frankfurt',\n",
              " 'Bayer 04 Leverkusen',\n",
              " 'FC Augsburg',\n",
              " 'Hamburger SV',\n",
              " '1.FSV Mainz 05',\n",
              " 'VfL Wolfsburg',\n",
              " 'VfB Stuttgart',\n",
              " 'Hannover 96',\n",
              " 'Atalanta BC',\n",
              " 'Benevento Calcio',\n",
              " 'Bologna FC 1909',\n",
              " 'Cagliari Calcio',\n",
              " 'Chievo Verona',\n",
              " 'FC Crotone',\n",
              " 'ACF Fiorentina',\n",
              " 'Genoa CFC',\n",
              " 'Hellas Verona',\n",
              " 'Inter Milan',\n",
              " 'Juventus FC',\n",
              " 'SS Lazio',\n",
              " 'AC Milan',\n",
              " 'SSC Napoli',\n",
              " 'AS Roma',\n",
              " 'UC Sampdoria',\n",
              " 'US Sassuolo',\n",
              " 'SPAL 2013',\n",
              " 'Torino FC',\n",
              " 'Udinese Calcio',\n",
              " 'Amiens SC',\n",
              " 'SCO Angers',\n",
              " 'FC Girondins Bordeaux',\n",
              " 'SM Caen',\n",
              " 'Dijon FCO',\n",
              " 'EA Guingamp',\n",
              " 'LOSC Lille',\n",
              " 'Olympique Lyon',\n",
              " 'Olympique Marseille',\n",
              " 'FC Metz',\n",
              " 'AS Monaco',\n",
              " 'Montpellier HSC',\n",
              " 'FC Nantes',\n",
              " 'OGC Nice',\n",
              " 'Paris Saint-Germain',\n",
              " 'Stade Rennais FC',\n",
              " 'AS Saint-Étienne',\n",
              " 'RC Strasbourg Alsace',\n",
              " 'FC Toulouse',\n",
              " 'ES Troyes AC',\n",
              " 'Real Madrid',\n",
              " 'FC Barcelona',\n",
              " 'Atlético Madrid',\n",
              " 'Sevilla FC',\n",
              " 'Villarreal CF',\n",
              " 'Real Sociedad',\n",
              " 'Athletic Bilbao',\n",
              " 'RCD Espanyol Barcelona',\n",
              " 'Deportivo Alavés',\n",
              " 'SD Eibar',\n",
              " 'Málaga CF',\n",
              " 'Valencia CF',\n",
              " 'Celta de Vigo',\n",
              " 'UD Las Palmas',\n",
              " 'Real Betis Balompié',\n",
              " 'Deportivo de La Coruña',\n",
              " 'CD Leganés',\n",
              " 'Levante UD',\n",
              " 'Girona FC',\n",
              " 'Getafe CF']"
            ]
          },
          "metadata": {
            "tags": []
          },
          "execution_count": 57
        }
      ]
    },
    {
      "cell_type": "markdown",
      "metadata": {
        "id": "Ooxd5EDp20mD"
      },
      "source": [
        "В колонке 'club_involved_name' названия команд записаны в сокращенном виде, поэтому составим словарь сокращений с помощью списка исходящих трансферов.\r\n",
        "(Можно было бы изначально просто пересечь списки трансферов на вход и на выход, но в таком случае у нас бы были трансферы из команд игравших прошлый сезон во второй лиге и не было бы трансферов из вылетевших команд)"
      ]
    },
    {
      "cell_type": "markdown",
      "metadata": {
        "id": "K9Lg8Sw13C20"
      },
      "source": [
        "Построим датафрейм исходящих трансферов"
      ]
    },
    {
      "cell_type": "code",
      "metadata": {
        "id": "SFPRlAYH2v2S"
      },
      "source": [
        "frames_out = {}\r\n",
        "for year in years:\r\n",
        "  for comp in comps:\r\n",
        "    url = \"https://raw.githubusercontent.com/ewenme/transfers/master/data/\" + year + \"/\" + comp + \".csv\"\r\n",
        "    download = requests.get(url).content\r\n",
        "    df = pd.read_csv(io.StringIO(download.decode('utf-8')))\r\n",
        "    df = df[df['transfer_movement'] == 'out']\r\n",
        "    df = df[df['fee'] != 'Loan']\r\n",
        "    df = df[df['fee'].str.match('^E.*') == False]\r\n",
        "    name = comp[:2] + \"_\" + year[2:]\r\n",
        "    frames_out[name] = df"
      ],
      "execution_count": null,
      "outputs": []
    },
    {
      "cell_type": "markdown",
      "metadata": {
        "id": "PpEvdHANFizV"
      },
      "source": [
        "Объеденим датафреймы и построим словарь, сначала на примере одного сезона премьер лиги."
      ]
    },
    {
      "cell_type": "code",
      "metadata": {
        "colab": {
          "base_uri": "https://localhost:8080/",
          "height": 754
        },
        "id": "d_dcEurq7P2Q",
        "outputId": "bc712fd1-fd02-4edb-de2b-882fc8d5ed9d"
      },
      "source": [
        "pd.merge(frames['en_18'], frames_out['en_18'], how='inner', left_on='player_name', right_on='player_name')"
      ],
      "execution_count": null,
      "outputs": [
        {
          "output_type": "execute_result",
          "data": {
            "text/html": [
              "<div>\n",
              "<style scoped>\n",
              "    .dataframe tbody tr th:only-of-type {\n",
              "        vertical-align: middle;\n",
              "    }\n",
              "\n",
              "    .dataframe tbody tr th {\n",
              "        vertical-align: top;\n",
              "    }\n",
              "\n",
              "    .dataframe thead th {\n",
              "        text-align: right;\n",
              "    }\n",
              "</style>\n",
              "<table border=\"1\" class=\"dataframe\">\n",
              "  <thead>\n",
              "    <tr style=\"text-align: right;\">\n",
              "      <th></th>\n",
              "      <th>club_name_x</th>\n",
              "      <th>player_name</th>\n",
              "      <th>age_x</th>\n",
              "      <th>position_x</th>\n",
              "      <th>club_involved_name_x</th>\n",
              "      <th>fee_x</th>\n",
              "      <th>transfer_movement_x</th>\n",
              "      <th>transfer_period_x</th>\n",
              "      <th>fee_cleaned_x</th>\n",
              "      <th>league_name_x</th>\n",
              "      <th>year_x</th>\n",
              "      <th>season_x</th>\n",
              "      <th>club_name_y</th>\n",
              "      <th>age_y</th>\n",
              "      <th>position_y</th>\n",
              "      <th>club_involved_name_y</th>\n",
              "      <th>fee_y</th>\n",
              "      <th>transfer_movement_y</th>\n",
              "      <th>transfer_period_y</th>\n",
              "      <th>fee_cleaned_y</th>\n",
              "      <th>league_name_y</th>\n",
              "      <th>year_y</th>\n",
              "      <th>season_y</th>\n",
              "    </tr>\n",
              "  </thead>\n",
              "  <tbody>\n",
              "    <tr>\n",
              "      <th>0</th>\n",
              "      <td>Manchester City</td>\n",
              "      <td>Riyad Mahrez</td>\n",
              "      <td>27</td>\n",
              "      <td>Right Winger</td>\n",
              "      <td>Leicester</td>\n",
              "      <td>£61.02m</td>\n",
              "      <td>in</td>\n",
              "      <td>Summer</td>\n",
              "      <td>61.02</td>\n",
              "      <td>Premier League</td>\n",
              "      <td>2018</td>\n",
              "      <td>2018/2019</td>\n",
              "      <td>Leicester City</td>\n",
              "      <td>27</td>\n",
              "      <td>Right Winger</td>\n",
              "      <td>Man City</td>\n",
              "      <td>£61.02m</td>\n",
              "      <td>out</td>\n",
              "      <td>Summer</td>\n",
              "      <td>61.020</td>\n",
              "      <td>Premier League</td>\n",
              "      <td>2018</td>\n",
              "      <td>2018/2019</td>\n",
              "    </tr>\n",
              "    <tr>\n",
              "      <th>1</th>\n",
              "      <td>Manchester City</td>\n",
              "      <td>Pablo Maffeo</td>\n",
              "      <td>20</td>\n",
              "      <td>Right-Back</td>\n",
              "      <td>Girona</td>\n",
              "      <td>End of loanJun 30, 2018</td>\n",
              "      <td>in</td>\n",
              "      <td>Summer</td>\n",
              "      <td>0.00</td>\n",
              "      <td>Premier League</td>\n",
              "      <td>2018</td>\n",
              "      <td>2018/2019</td>\n",
              "      <td>Manchester City</td>\n",
              "      <td>20</td>\n",
              "      <td>Right-Back</td>\n",
              "      <td>VfB Stuttgart</td>\n",
              "      <td>£8.10m</td>\n",
              "      <td>out</td>\n",
              "      <td>Summer</td>\n",
              "      <td>8.100</td>\n",
              "      <td>Premier League</td>\n",
              "      <td>2018</td>\n",
              "      <td>2018/2019</td>\n",
              "    </tr>\n",
              "    <tr>\n",
              "      <th>2</th>\n",
              "      <td>Manchester City</td>\n",
              "      <td>Jason Denayer</td>\n",
              "      <td>23</td>\n",
              "      <td>Centre-Back</td>\n",
              "      <td>Galatasaray</td>\n",
              "      <td>End of loanJun 30, 2018</td>\n",
              "      <td>in</td>\n",
              "      <td>Summer</td>\n",
              "      <td>0.00</td>\n",
              "      <td>Premier League</td>\n",
              "      <td>2018</td>\n",
              "      <td>2018/2019</td>\n",
              "      <td>Manchester City</td>\n",
              "      <td>23</td>\n",
              "      <td>Centre-Back</td>\n",
              "      <td>Olympique Lyon</td>\n",
              "      <td>£9.00m</td>\n",
              "      <td>out</td>\n",
              "      <td>Summer</td>\n",
              "      <td>9.000</td>\n",
              "      <td>Premier League</td>\n",
              "      <td>2018</td>\n",
              "      <td>2018/2019</td>\n",
              "    </tr>\n",
              "    <tr>\n",
              "      <th>3</th>\n",
              "      <td>Manchester City</td>\n",
              "      <td>Olarenwaju Kayode</td>\n",
              "      <td>25</td>\n",
              "      <td>Centre-Forward</td>\n",
              "      <td>Shakhtar D.</td>\n",
              "      <td>End of loanJun 30, 2018</td>\n",
              "      <td>in</td>\n",
              "      <td>Summer</td>\n",
              "      <td>0.00</td>\n",
              "      <td>Premier League</td>\n",
              "      <td>2018</td>\n",
              "      <td>2018/2019</td>\n",
              "      <td>Manchester City</td>\n",
              "      <td>25</td>\n",
              "      <td>Centre-Forward</td>\n",
              "      <td>Shakhtar D.</td>\n",
              "      <td>£2.70m</td>\n",
              "      <td>out</td>\n",
              "      <td>Summer</td>\n",
              "      <td>2.700</td>\n",
              "      <td>Premier League</td>\n",
              "      <td>2018</td>\n",
              "      <td>2018/2019</td>\n",
              "    </tr>\n",
              "    <tr>\n",
              "      <th>4</th>\n",
              "      <td>Liverpool FC</td>\n",
              "      <td>Harry Wilson</td>\n",
              "      <td>21</td>\n",
              "      <td>Right Winger</td>\n",
              "      <td>Liverpool U23</td>\n",
              "      <td>-</td>\n",
              "      <td>in</td>\n",
              "      <td>Summer</td>\n",
              "      <td>0.00</td>\n",
              "      <td>Premier League</td>\n",
              "      <td>2018</td>\n",
              "      <td>2018/2019</td>\n",
              "      <td>Liverpool FC</td>\n",
              "      <td>21</td>\n",
              "      <td>Right Winger</td>\n",
              "      <td>Derby</td>\n",
              "      <td>Loan fee:£990Th.</td>\n",
              "      <td>out</td>\n",
              "      <td>Summer</td>\n",
              "      <td>0.990</td>\n",
              "      <td>Premier League</td>\n",
              "      <td>2018</td>\n",
              "      <td>2018/2019</td>\n",
              "    </tr>\n",
              "    <tr>\n",
              "      <th>...</th>\n",
              "      <td>...</td>\n",
              "      <td>...</td>\n",
              "      <td>...</td>\n",
              "      <td>...</td>\n",
              "      <td>...</td>\n",
              "      <td>...</td>\n",
              "      <td>...</td>\n",
              "      <td>...</td>\n",
              "      <td>...</td>\n",
              "      <td>...</td>\n",
              "      <td>...</td>\n",
              "      <td>...</td>\n",
              "      <td>...</td>\n",
              "      <td>...</td>\n",
              "      <td>...</td>\n",
              "      <td>...</td>\n",
              "      <td>...</td>\n",
              "      <td>...</td>\n",
              "      <td>...</td>\n",
              "      <td>...</td>\n",
              "      <td>...</td>\n",
              "      <td>...</td>\n",
              "      <td>...</td>\n",
              "    </tr>\n",
              "    <tr>\n",
              "      <th>73</th>\n",
              "      <td>Southampton FC</td>\n",
              "      <td>Ryan Seager</td>\n",
              "      <td>22</td>\n",
              "      <td>Centre-Forward</td>\n",
              "      <td>Telstar</td>\n",
              "      <td>End of loanJan 7, 2019</td>\n",
              "      <td>in</td>\n",
              "      <td>Winter</td>\n",
              "      <td>0.00</td>\n",
              "      <td>Premier League</td>\n",
              "      <td>2018</td>\n",
              "      <td>2018/2019</td>\n",
              "      <td>Southampton FC</td>\n",
              "      <td>22</td>\n",
              "      <td>Centre-Forward</td>\n",
              "      <td>Yeovil Town</td>\n",
              "      <td>Free transfer</td>\n",
              "      <td>out</td>\n",
              "      <td>Winter</td>\n",
              "      <td>0.000</td>\n",
              "      <td>Premier League</td>\n",
              "      <td>2018</td>\n",
              "      <td>2018/2019</td>\n",
              "    </tr>\n",
              "    <tr>\n",
              "      <th>74</th>\n",
              "      <td>Wolverhampton Wanderers</td>\n",
              "      <td>Aaron Collins</td>\n",
              "      <td>21</td>\n",
              "      <td>Centre-Forward</td>\n",
              "      <td>Colchester Utd.</td>\n",
              "      <td>End of loanJan 2, 2019</td>\n",
              "      <td>in</td>\n",
              "      <td>Winter</td>\n",
              "      <td>0.00</td>\n",
              "      <td>Premier League</td>\n",
              "      <td>2018</td>\n",
              "      <td>2018/2019</td>\n",
              "      <td>Wolverhampton Wanderers</td>\n",
              "      <td>21</td>\n",
              "      <td>Centre-Forward</td>\n",
              "      <td>Without Club</td>\n",
              "      <td>-</td>\n",
              "      <td>out</td>\n",
              "      <td>Winter</td>\n",
              "      <td>0.000</td>\n",
              "      <td>Premier League</td>\n",
              "      <td>2018</td>\n",
              "      <td>2018/2019</td>\n",
              "    </tr>\n",
              "    <tr>\n",
              "      <th>75</th>\n",
              "      <td>Wolverhampton Wanderers</td>\n",
              "      <td>Ben Stevenson</td>\n",
              "      <td>21</td>\n",
              "      <td>Central Midfield</td>\n",
              "      <td>Jumilla</td>\n",
              "      <td>End of loanJan 19, 2019</td>\n",
              "      <td>in</td>\n",
              "      <td>Winter</td>\n",
              "      <td>0.00</td>\n",
              "      <td>Premier League</td>\n",
              "      <td>2018</td>\n",
              "      <td>2018/2019</td>\n",
              "      <td>Wolverhampton Wanderers</td>\n",
              "      <td>21</td>\n",
              "      <td>Central Midfield</td>\n",
              "      <td>Colchester Utd.</td>\n",
              "      <td>£225Th.</td>\n",
              "      <td>out</td>\n",
              "      <td>Winter</td>\n",
              "      <td>0.225</td>\n",
              "      <td>Premier League</td>\n",
              "      <td>2018</td>\n",
              "      <td>2018/2019</td>\n",
              "    </tr>\n",
              "    <tr>\n",
              "      <th>76</th>\n",
              "      <td>Wolverhampton Wanderers</td>\n",
              "      <td>Danny Batth</td>\n",
              "      <td>28</td>\n",
              "      <td>Centre-Back</td>\n",
              "      <td>Middlesbrough</td>\n",
              "      <td>End of loanJan 28, 2019</td>\n",
              "      <td>in</td>\n",
              "      <td>Winter</td>\n",
              "      <td>0.00</td>\n",
              "      <td>Premier League</td>\n",
              "      <td>2018</td>\n",
              "      <td>2018/2019</td>\n",
              "      <td>Wolverhampton Wanderers</td>\n",
              "      <td>28</td>\n",
              "      <td>Centre-Back</td>\n",
              "      <td>Stoke City</td>\n",
              "      <td>£3.11m</td>\n",
              "      <td>out</td>\n",
              "      <td>Winter</td>\n",
              "      <td>3.110</td>\n",
              "      <td>Premier League</td>\n",
              "      <td>2018</td>\n",
              "      <td>2018/2019</td>\n",
              "    </tr>\n",
              "    <tr>\n",
              "      <th>77</th>\n",
              "      <td>Fulham FC</td>\n",
              "      <td>Cauley Woodrow</td>\n",
              "      <td>24</td>\n",
              "      <td>Attacking Midfield</td>\n",
              "      <td>Barnsley FC</td>\n",
              "      <td>End of loanJan 2, 2019</td>\n",
              "      <td>in</td>\n",
              "      <td>Winter</td>\n",
              "      <td>0.00</td>\n",
              "      <td>Premier League</td>\n",
              "      <td>2018</td>\n",
              "      <td>2018/2019</td>\n",
              "      <td>Fulham FC</td>\n",
              "      <td>24</td>\n",
              "      <td>Attacking Midfield</td>\n",
              "      <td>Barnsley FC</td>\n",
              "      <td>£765Th.</td>\n",
              "      <td>out</td>\n",
              "      <td>Winter</td>\n",
              "      <td>0.765</td>\n",
              "      <td>Premier League</td>\n",
              "      <td>2018</td>\n",
              "      <td>2018/2019</td>\n",
              "    </tr>\n",
              "  </tbody>\n",
              "</table>\n",
              "<p>78 rows × 23 columns</p>\n",
              "</div>"
            ],
            "text/plain": [
              "                club_name_x        player_name  ...  year_y   season_y\n",
              "0           Manchester City       Riyad Mahrez  ...    2018  2018/2019\n",
              "1           Manchester City       Pablo Maffeo  ...    2018  2018/2019\n",
              "2           Manchester City      Jason Denayer  ...    2018  2018/2019\n",
              "3           Manchester City  Olarenwaju Kayode  ...    2018  2018/2019\n",
              "4              Liverpool FC       Harry Wilson  ...    2018  2018/2019\n",
              "..                      ...                ...  ...     ...        ...\n",
              "73           Southampton FC        Ryan Seager  ...    2018  2018/2019\n",
              "74  Wolverhampton Wanderers      Aaron Collins  ...    2018  2018/2019\n",
              "75  Wolverhampton Wanderers      Ben Stevenson  ...    2018  2018/2019\n",
              "76  Wolverhampton Wanderers        Danny Batth  ...    2018  2018/2019\n",
              "77                Fulham FC     Cauley Woodrow  ...    2018  2018/2019\n",
              "\n",
              "[78 rows x 23 columns]"
            ]
          },
          "metadata": {
            "tags": []
          },
          "execution_count": 59
        }
      ]
    },
    {
      "cell_type": "markdown",
      "metadata": {
        "id": "T4h0wgaK96d3"
      },
      "source": [
        "Видим, что у некоторых игроков было сразу 2 трансфера, поэтому получаются плохие пары, потребуем что бы цена совпадала."
      ]
    },
    {
      "cell_type": "code",
      "metadata": {
        "id": "6_V_vC-D_mdm"
      },
      "source": [
        "test = pd.merge(frames['en_18'], frames_out['en_18'], how='inner', left_on='player_name', right_on='player_name')\r\n",
        "test = test[test['fee_x'] == test['fee_y']]"
      ],
      "execution_count": null,
      "outputs": []
    },
    {
      "cell_type": "code",
      "metadata": {
        "colab": {
          "base_uri": "https://localhost:8080/"
        },
        "id": "LP3B0HWWBOUp",
        "outputId": "84721ed2-ad2c-43fa-ec69-55f49707412d"
      },
      "source": [
        "test_dict = {**pd.Series(test.club_involved_name_y.values,index=test.club_name_x).to_dict(), **pd.Series(test.club_involved_name_x.values,index=test.club_name_y).to_dict()}\r\n",
        "print(test_dict)"
      ],
      "execution_count": null,
      "outputs": [
        {
          "output_type": "stream",
          "text": [
            "{'Manchester City': 'Man City', 'Fulham FC': 'Fulham', 'Chelsea FC': 'Chelsea', 'Everton FC': 'Everton', 'Crystal Palace': 'Crystal Palace', 'West Ham United': 'West Ham', 'Burnley FC': 'Burnley', 'Leicester City': 'Leicester', 'Wolverhampton Wanderers': 'Wolves', 'Watford FC': 'Watford', 'Brighton & Hove Albion': 'Brighton', 'Huddersfield Town': 'Huddersfield', 'Southampton FC': 'Southampton', 'AFC Bournemouth': 'Bournemouth', 'Liverpool FC': 'Liverpool', 'Arsenal FC': 'Arsenal', 'Newcastle United': 'Newcastle'}\n"
          ],
          "name": "stdout"
        }
      ]
    },
    {
      "cell_type": "markdown",
      "metadata": {
        "id": "FB5NPwHCGW9q"
      },
      "source": [
        "Теперь построим общий словарь. Объеденим датафреймы разных лиг одного сезона в один, что бы охватить больше трансферов. (Можно объеденить и сезоны тоже, но тогда будет много игроков с несколькими трансферами). Наверно можно автоматизировать, но я не смог."
      ]
    },
    {
      "cell_type": "code",
      "metadata": {
        "id": "rNiMtC8Q_tYt"
      },
      "source": [
        "year_18 = pd.concat([frames['en_18'], frames['fr_18'], frames['it_18'], frames['ge_18'], frames['sp_18']])\r\n",
        "year_19 = pd.concat([frames['en_19'], frames['fr_19'], frames['it_19'], frames['ge_19'], frames['sp_19']])\r\n",
        "year_20 = pd.concat([frames['en_20'], frames['fr_20'], frames['it_20'], frames['ge_20'], frames['sp_20']])\r\n",
        "\r\n",
        "year_18_out = pd.concat([frames_out['en_18'], frames_out['fr_18'], frames_out['it_18'], frames_out['ge_18'], frames_out['sp_18']])\r\n",
        "year_19_out = pd.concat([frames_out['en_19'], frames_out['fr_19'], frames_out['it_19'], frames_out['ge_19'], frames_out['sp_19']])\r\n",
        "year_20_out = pd.concat([frames_out['en_20'], frames_out['fr_20'], frames_out['it_20'], frames_out['ge_20'], frames_out['sp_20']])"
      ],
      "execution_count": null,
      "outputs": []
    },
    {
      "cell_type": "markdown",
      "metadata": {
        "id": "OIK6K-S-MaZ-"
      },
      "source": [
        "Составим словари для каждого сезона, пришлось убрать бесплатные трансферы из - за них случались ошибки."
      ]
    },
    {
      "cell_type": "code",
      "metadata": {
        "id": "2oZ3uFskBkCz"
      },
      "source": [
        "dict_18 = pd.merge(year_18, year_18_out, how='inner', left_on='player_name', right_on='player_name')\r\n",
        "dict_18 = dict_18[dict_18['fee_x'] == dict_18['fee_y']]\r\n",
        "dict_18 = dict_18[dict_18['transfer_period_x'] == dict_18['transfer_period_y']]\r\n",
        "dict_18 = dict_18[dict_18['fee_cleaned_x'] != 0.0]\r\n",
        "dict_18 = {**pd.Series(dict_18.club_name_x.values,index=dict_18.club_involved_name_y).to_dict(), **pd.Series(dict_18.club_name_y.values,index=dict_18.club_involved_name_x).to_dict()}\r\n",
        "\r\n",
        "dict_19 = pd.merge(year_19, year_19_out, how='inner', left_on='player_name', right_on='player_name')\r\n",
        "dict_19 = dict_19[dict_19['fee_x'] == dict_19['fee_y']]\r\n",
        "dict_19 = dict_19[dict_19['transfer_period_x'] == dict_19['transfer_period_y']]\r\n",
        "dict_19 = dict_19[dict_19['fee_cleaned_x'] != 0.0]\r\n",
        "dict_19 = {**pd.Series(dict_19.club_name_x.values,index=dict_19.club_involved_name_y).to_dict(), **pd.Series(dict_19.club_name_y.values,index=dict_19.club_involved_name_x).to_dict()}\r\n",
        "\r\n",
        "dict_20 = pd.merge(year_20, year_20_out, how='inner', left_on='player_name', right_on='player_name')\r\n",
        "dict_20 = dict_20[dict_20['fee_x'] == dict_20['fee_y']]\r\n",
        "dict_20 = dict_20[dict_20['transfer_period_x'] == dict_20['transfer_period_y']]\r\n",
        "dict_20 = dict_20[dict_20['fee_cleaned_x'] != 0.0]\r\n",
        "dict_20 = {**pd.Series(dict_20.club_name_x.values,index=dict_20.club_involved_name_y).to_dict(), **pd.Series(dict_20.club_name_y.values,index=dict_20.club_involved_name_x).to_dict()}"
      ],
      "execution_count": null,
      "outputs": []
    },
    {
      "cell_type": "code",
      "metadata": {
        "id": "DmVmywMzF1Sh",
        "colab": {
          "base_uri": "https://localhost:8080/"
        },
        "outputId": "e164b54a-7131-406f-d4dd-08e4dc4c2ad7"
      },
      "source": [
        "dict_teams = {**dict_18, **dict_19, **dict_20}\r\n",
        "dict_teams"
      ],
      "execution_count": null,
      "outputs": [
        {
          "output_type": "execute_result",
          "data": {
            "text/plain": [
              "{'1. FC Köln': '1. FC Köln',\n",
              " '1.FC Nuremberg': '1.FC Nuremberg',\n",
              " '1.FSV Mainz 05': '1.FSV Mainz 05',\n",
              " 'AC Milan': 'AC Milan',\n",
              " 'AS Roma': 'AS Roma',\n",
              " 'Ajax': 'Sevilla FC',\n",
              " 'Alavés': 'Deportivo Alavés',\n",
              " 'Amiens SC': 'Amiens SC',\n",
              " 'Arm. Bielefeld': 'Arminia Bielefeld',\n",
              " 'Arsenal': 'Arsenal FC',\n",
              " 'Aston Villa': 'Aston Villa',\n",
              " 'Atalanta': 'Atalanta BC',\n",
              " 'Atalanta BC': 'Atalanta BC',\n",
              " 'Athletic': 'Athletic Bilbao',\n",
              " 'Atlético Madrid': 'Atlético Madrid',\n",
              " 'Basaksehir': 'Spezia Calcio',\n",
              " 'Bay. Leverkusen': 'Bayer 04 Leverkusen',\n",
              " 'Bayern Munich': 'Bayern Munich',\n",
              " 'Benevento': 'Benevento Calcio',\n",
              " 'Bologna': 'Bologna FC 1909',\n",
              " 'Bor. Dortmund': 'Borussia Dortmund',\n",
              " \"Bor. M'gladbach\": 'Borussia Mönchengladbach',\n",
              " 'Bournemouth': 'AFC Bournemouth',\n",
              " 'Brescia': 'Brescia Calcio',\n",
              " 'Brighton': 'Brighton & Hove Albion',\n",
              " 'Burnley': 'Burnley FC',\n",
              " 'CA Osasuna': 'CA Osasuna',\n",
              " 'CD Leganés': 'CD Leganés',\n",
              " 'Cagliari Calcio': 'Cagliari Calcio',\n",
              " 'Cardiff': 'Cardiff City',\n",
              " 'Celta de Vigo': 'Celta de Vigo',\n",
              " 'Chelsea': 'Chelsea FC',\n",
              " 'Chievo Verona': 'Chievo Verona',\n",
              " 'Crotone': 'FC Crotone',\n",
              " 'Crystal Palace': 'Crystal Palace',\n",
              " 'Cádiz CF': 'Cádiz CF',\n",
              " 'Dijon': 'Dijon FCO',\n",
              " 'E. Frankfurt': 'Eintracht Frankfurt',\n",
              " 'Elche CF': 'Elche CF',\n",
              " 'Espanyol': 'RCD Espanyol Barcelona',\n",
              " 'Everton': 'Everton FC',\n",
              " 'F. Düsseldorf': 'Fortuna Düsseldorf',\n",
              " 'FC Augsburg': 'FC Augsburg',\n",
              " 'FC Barcelona': 'FC Barcelona',\n",
              " 'FC Empoli': 'FC Empoli',\n",
              " 'FC Lorient': 'FC Lorient',\n",
              " 'FC Metz': 'FC Metz',\n",
              " 'FC Nantes': 'FC Nantes',\n",
              " 'FC Schalke 04': 'FC Schalke 04',\n",
              " 'Fiorentina': 'ACF Fiorentina',\n",
              " 'Frosinone': 'Frosinone Calcio',\n",
              " 'Fulham': 'Fulham FC',\n",
              " 'G. Bordeaux': 'FC Girondins Bordeaux',\n",
              " 'Genoa': 'Genoa CFC',\n",
              " 'Getafe': 'Getafe CF',\n",
              " 'Girona': 'Girona FC',\n",
              " 'Granada CF': 'Granada CF',\n",
              " 'Guingamp': 'EA Guingamp',\n",
              " 'Hannover 96': 'Hannover 96',\n",
              " 'Hellas Verona': 'Hellas Verona',\n",
              " 'Hertha BSC': 'Hertha BSC',\n",
              " 'Huddersfield': 'Huddersfield Town',\n",
              " 'Inter': 'Inter Milan',\n",
              " 'Juventus': 'Juventus FC',\n",
              " 'LOSC Lille': 'LOSC Lille',\n",
              " 'Lazio': 'SS Lazio',\n",
              " 'Lecce': 'US Lecce',\n",
              " 'Leeds': 'Leeds United',\n",
              " 'Leicester': 'Leicester City',\n",
              " 'Lens': 'RC Lens',\n",
              " 'Levante': 'Levante UD',\n",
              " 'Liverpool': 'Liverpool FC',\n",
              " 'Man City': 'Manchester City',\n",
              " 'Man Utd': 'Manchester United',\n",
              " 'Marseille': 'Olympique Marseille',\n",
              " 'Monaco': 'AS Monaco',\n",
              " 'Montpellier': 'Montpellier HSC',\n",
              " 'Newcastle': 'Newcastle United',\n",
              " 'Norwich': 'Norwich City',\n",
              " 'Nîmes Olympique': 'Nîmes Olympique',\n",
              " 'OGC Nice': 'OGC Nice',\n",
              " 'Olympique Lyon': 'Olympique Lyon',\n",
              " 'Paris SG': 'Paris Saint-Germain',\n",
              " 'Parma': 'Parma Calcio 1913',\n",
              " 'Perugia': 'Juventus FC',\n",
              " 'R. Strasbourg': 'RC Strasbourg Alsace',\n",
              " 'RB Leipzig': 'RB Leipzig',\n",
              " 'RB Salzburg': 'Sevilla FC',\n",
              " 'Rayo Vallecano': 'Rayo Vallecano',\n",
              " 'Real Betis': 'Real Betis Balompié',\n",
              " 'Real Madrid': 'Real Madrid',\n",
              " 'Real Sociedad': 'Real Sociedad',\n",
              " 'Real Valladolid': 'Real Valladolid CF',\n",
              " 'SC Freiburg': 'SC Freiburg',\n",
              " 'SC Paderborn': 'SC Paderborn 07',\n",
              " 'SCO Angers': 'SCO Angers',\n",
              " 'SD Eibar': 'SD Eibar',\n",
              " 'SD Huesca': 'SD Huesca',\n",
              " 'SM Caen': 'SM Caen',\n",
              " 'SPAL': 'SPAL',\n",
              " 'SSC Napoli': 'SSC Napoli',\n",
              " 'Saint-Étienne': 'AS Saint-Étienne',\n",
              " 'Sampdoria': 'UC Sampdoria',\n",
              " 'Sassuolo': 'US Sassuolo',\n",
              " 'Sevilla FC': 'Sevilla FC',\n",
              " 'Sheff Utd': 'Sheffield United',\n",
              " 'Sheffield Utd.': 'Sheffield United',\n",
              " 'Southampton': 'Southampton FC',\n",
              " 'Spezia Calcio': 'Spezia Calcio',\n",
              " 'Spurs': 'Tottenham Hotspur',\n",
              " 'Stade Brest 29': 'Stade Brest 29',\n",
              " 'Stade Reims': 'Stade Reims',\n",
              " 'Stade Rennais': 'Stade Rennais FC',\n",
              " 'TSG Hoffenheim': 'TSG 1899 Hoffenheim',\n",
              " 'Torino': 'Torino FC',\n",
              " 'Toulouse': 'FC Toulouse',\n",
              " 'Udinese Calcio': 'Udinese Calcio',\n",
              " 'Union Berlin': '1.FC Union Berlin',\n",
              " 'Valencia': 'Valencia CF',\n",
              " 'VfB Stuttgart': 'VfB Stuttgart',\n",
              " 'VfL Wolfsburg': 'VfL Wolfsburg',\n",
              " 'Villarreal': 'Villarreal CF',\n",
              " 'Watford': 'Watford FC',\n",
              " 'Werder Bremen': 'SV Werder Bremen',\n",
              " 'West Brom': 'West Bromwich Albion',\n",
              " 'West Ham': 'West Ham United',\n",
              " 'Wolves': 'Wolverhampton Wanderers'}"
            ]
          },
          "metadata": {
            "tags": []
          },
          "execution_count": 64
        }
      ]
    },
    {
      "cell_type": "markdown",
      "metadata": {
        "id": "1nSMJ5aeLkb0"
      },
      "source": [
        "В словарь ошибочно попали Аякс и Перуджа, удалим их из словаря. Кажется, больше ошибок нет."
      ]
    },
    {
      "cell_type": "code",
      "metadata": {
        "id": "WxmeOTyRk1ts",
        "colab": {
          "base_uri": "https://localhost:8080/",
          "height": 35
        },
        "outputId": "59417d2a-9cc8-4743-cb87-232a65af3875"
      },
      "source": [
        "dict_teams.pop('Ajax')\r\n",
        "dict_teams.pop('Perugia')\r\n",
        "dict_teams.pop('Basaksehir')"
      ],
      "execution_count": null,
      "outputs": [
        {
          "output_type": "execute_result",
          "data": {
            "application/vnd.google.colaboratory.intrinsic+json": {
              "type": "string"
            },
            "text/plain": [
              "'Spezia Calcio'"
            ]
          },
          "metadata": {
            "tags": []
          },
          "execution_count": 65
        }
      ]
    },
    {
      "cell_type": "markdown",
      "metadata": {
        "id": "NO8B_6HTBLnD"
      },
      "source": [
        "Теперь заменим в датафреймах всех лиг все названия на полные."
      ]
    },
    {
      "cell_type": "code",
      "metadata": {
        "id": "tUIK4ue8NX0T"
      },
      "source": [
        "for i in season_names:\r\n",
        "  frames[i].replace(to_replace = dict_teams, inplace = True)"
      ],
      "execution_count": null,
      "outputs": []
    },
    {
      "cell_type": "markdown",
      "metadata": {
        "id": "BuH3UgqElNYT"
      },
      "source": [
        "Оставляем трансферы только из топ 5 лиг."
      ]
    },
    {
      "cell_type": "code",
      "metadata": {
        "id": "qNKQWCjOlL5S"
      },
      "source": [
        "for year in years:\r\n",
        "  for comp in comps:\r\n",
        "    name = comp[:2] + \"_\" + year[2:]\r\n",
        "    df = frames[name]\r\n",
        "    pr_year = str(int(year) - 1)\r\n",
        "    df = df[df['club_involved_name'].isin(teams[pr_year])]\r\n",
        "    frames[name] = df "
      ],
      "execution_count": null,
      "outputs": []
    },
    {
      "cell_type": "code",
      "metadata": {
        "colab": {
          "base_uri": "https://localhost:8080/",
          "height": 579
        },
        "id": "xLNi4b_1ripA",
        "outputId": "4c0a0a95-d26f-4d36-e6cf-578e2a0fe311"
      },
      "source": [
        "frames['sp_20']"
      ],
      "execution_count": null,
      "outputs": [
        {
          "output_type": "execute_result",
          "data": {
            "text/html": [
              "<div>\n",
              "<style scoped>\n",
              "    .dataframe tbody tr th:only-of-type {\n",
              "        vertical-align: middle;\n",
              "    }\n",
              "\n",
              "    .dataframe tbody tr th {\n",
              "        vertical-align: top;\n",
              "    }\n",
              "\n",
              "    .dataframe thead th {\n",
              "        text-align: right;\n",
              "    }\n",
              "</style>\n",
              "<table border=\"1\" class=\"dataframe\">\n",
              "  <thead>\n",
              "    <tr style=\"text-align: right;\">\n",
              "      <th></th>\n",
              "      <th>club_name</th>\n",
              "      <th>player_name</th>\n",
              "      <th>age</th>\n",
              "      <th>position</th>\n",
              "      <th>club_involved_name</th>\n",
              "      <th>fee</th>\n",
              "      <th>transfer_movement</th>\n",
              "      <th>transfer_period</th>\n",
              "      <th>fee_cleaned</th>\n",
              "      <th>league_name</th>\n",
              "      <th>year</th>\n",
              "      <th>season</th>\n",
              "    </tr>\n",
              "  </thead>\n",
              "  <tbody>\n",
              "    <tr>\n",
              "      <th>0</th>\n",
              "      <td>Real Madrid</td>\n",
              "      <td>Martin Ødegaard</td>\n",
              "      <td>21</td>\n",
              "      <td>Attacking Midfield</td>\n",
              "      <td>Real Sociedad</td>\n",
              "      <td>End of loanJul 20, 2020</td>\n",
              "      <td>in</td>\n",
              "      <td>Summer</td>\n",
              "      <td>0.0</td>\n",
              "      <td>Primera Division</td>\n",
              "      <td>2020</td>\n",
              "      <td>2020/2021</td>\n",
              "    </tr>\n",
              "    <tr>\n",
              "      <th>1</th>\n",
              "      <td>Real Madrid</td>\n",
              "      <td>Takefusa Kubo</td>\n",
              "      <td>19</td>\n",
              "      <td>Right Winger</td>\n",
              "      <td>RCD Mallorca</td>\n",
              "      <td>End of loanJul 20, 2020</td>\n",
              "      <td>in</td>\n",
              "      <td>Summer</td>\n",
              "      <td>0.0</td>\n",
              "      <td>Primera Division</td>\n",
              "      <td>2020</td>\n",
              "      <td>2020/2021</td>\n",
              "    </tr>\n",
              "    <tr>\n",
              "      <th>2</th>\n",
              "      <td>Real Madrid</td>\n",
              "      <td>Sergio Reguilón</td>\n",
              "      <td>23</td>\n",
              "      <td>Left-Back</td>\n",
              "      <td>Sevilla FC</td>\n",
              "      <td>End of loanAug 22, 2020</td>\n",
              "      <td>in</td>\n",
              "      <td>Summer</td>\n",
              "      <td>0.0</td>\n",
              "      <td>Primera Division</td>\n",
              "      <td>2020</td>\n",
              "      <td>2020/2021</td>\n",
              "    </tr>\n",
              "    <tr>\n",
              "      <th>3</th>\n",
              "      <td>Real Madrid</td>\n",
              "      <td>Achraf Hakimi</td>\n",
              "      <td>21</td>\n",
              "      <td>Right Midfield</td>\n",
              "      <td>Borussia Dortmund</td>\n",
              "      <td>End of loanJun 30, 2020</td>\n",
              "      <td>in</td>\n",
              "      <td>Summer</td>\n",
              "      <td>0.0</td>\n",
              "      <td>Primera Division</td>\n",
              "      <td>2020</td>\n",
              "      <td>2020/2021</td>\n",
              "    </tr>\n",
              "    <tr>\n",
              "      <th>4</th>\n",
              "      <td>Real Madrid</td>\n",
              "      <td>Óscar Rodríguez</td>\n",
              "      <td>22</td>\n",
              "      <td>Attacking Midfield</td>\n",
              "      <td>CD Leganés</td>\n",
              "      <td>End of loanJul 20, 2020</td>\n",
              "      <td>in</td>\n",
              "      <td>Summer</td>\n",
              "      <td>0.0</td>\n",
              "      <td>Primera Division</td>\n",
              "      <td>2020</td>\n",
              "      <td>2020/2021</td>\n",
              "    </tr>\n",
              "    <tr>\n",
              "      <th>...</th>\n",
              "      <td>...</td>\n",
              "      <td>...</td>\n",
              "      <td>...</td>\n",
              "      <td>...</td>\n",
              "      <td>...</td>\n",
              "      <td>...</td>\n",
              "      <td>...</td>\n",
              "      <td>...</td>\n",
              "      <td>...</td>\n",
              "      <td>...</td>\n",
              "      <td>...</td>\n",
              "      <td>...</td>\n",
              "    </tr>\n",
              "    <tr>\n",
              "      <th>674</th>\n",
              "      <td>Deportivo Alavés</td>\n",
              "      <td>Facundo Pellistri</td>\n",
              "      <td>19</td>\n",
              "      <td>Right Winger</td>\n",
              "      <td>Manchester United</td>\n",
              "      <td>loan transfer</td>\n",
              "      <td>in</td>\n",
              "      <td>Winter</td>\n",
              "      <td>NaN</td>\n",
              "      <td>Primera Division</td>\n",
              "      <td>2020</td>\n",
              "      <td>2020/2021</td>\n",
              "    </tr>\n",
              "    <tr>\n",
              "      <th>675</th>\n",
              "      <td>Deportivo Alavés</td>\n",
              "      <td>Iñigo Córdoba</td>\n",
              "      <td>23</td>\n",
              "      <td>Left Winger</td>\n",
              "      <td>Athletic Bilbao</td>\n",
              "      <td>loan transfer</td>\n",
              "      <td>in</td>\n",
              "      <td>Winter</td>\n",
              "      <td>NaN</td>\n",
              "      <td>Primera Division</td>\n",
              "      <td>2020</td>\n",
              "      <td>2020/2021</td>\n",
              "    </tr>\n",
              "    <tr>\n",
              "      <th>678</th>\n",
              "      <td>SD Huesca</td>\n",
              "      <td>Denis Vavro</td>\n",
              "      <td>24</td>\n",
              "      <td>Centre-Back</td>\n",
              "      <td>SS Lazio</td>\n",
              "      <td>loan transfer</td>\n",
              "      <td>in</td>\n",
              "      <td>Winter</td>\n",
              "      <td>NaN</td>\n",
              "      <td>Primera Division</td>\n",
              "      <td>2020</td>\n",
              "      <td>2020/2021</td>\n",
              "    </tr>\n",
              "    <tr>\n",
              "      <th>683</th>\n",
              "      <td>Celta de Vigo</td>\n",
              "      <td>Aarón Martín</td>\n",
              "      <td>23</td>\n",
              "      <td>Left-Back</td>\n",
              "      <td>1.FSV Mainz 05</td>\n",
              "      <td>loan transfer</td>\n",
              "      <td>in</td>\n",
              "      <td>Winter</td>\n",
              "      <td>NaN</td>\n",
              "      <td>Primera Division</td>\n",
              "      <td>2020</td>\n",
              "      <td>2020/2021</td>\n",
              "    </tr>\n",
              "    <tr>\n",
              "      <th>687</th>\n",
              "      <td>Elche CF</td>\n",
              "      <td>Paulo Gazzaniga</td>\n",
              "      <td>29</td>\n",
              "      <td>Goalkeeper</td>\n",
              "      <td>Tottenham Hotspur</td>\n",
              "      <td>loan transfer</td>\n",
              "      <td>in</td>\n",
              "      <td>Winter</td>\n",
              "      <td>NaN</td>\n",
              "      <td>Primera Division</td>\n",
              "      <td>2020</td>\n",
              "      <td>2020/2021</td>\n",
              "    </tr>\n",
              "  </tbody>\n",
              "</table>\n",
              "<p>138 rows × 12 columns</p>\n",
              "</div>"
            ],
            "text/plain": [
              "            club_name        player_name  ...  year     season\n",
              "0         Real Madrid    Martin Ødegaard  ...  2020  2020/2021\n",
              "1         Real Madrid      Takefusa Kubo  ...  2020  2020/2021\n",
              "2         Real Madrid    Sergio Reguilón  ...  2020  2020/2021\n",
              "3         Real Madrid      Achraf Hakimi  ...  2020  2020/2021\n",
              "4         Real Madrid    Óscar Rodríguez  ...  2020  2020/2021\n",
              "..                ...                ...  ...   ...        ...\n",
              "674  Deportivo Alavés  Facundo Pellistri  ...  2020  2020/2021\n",
              "675  Deportivo Alavés      Iñigo Córdoba  ...  2020  2020/2021\n",
              "678         SD Huesca        Denis Vavro  ...  2020  2020/2021\n",
              "683     Celta de Vigo       Aarón Martín  ...  2020  2020/2021\n",
              "687          Elche CF    Paulo Gazzaniga  ...  2020  2020/2021\n",
              "\n",
              "[138 rows x 12 columns]"
            ]
          },
          "metadata": {
            "tags": []
          },
          "execution_count": 68
        }
      ]
    },
    {
      "cell_type": "markdown",
      "metadata": {
        "id": "Qr-x56AURuzv"
      },
      "source": [
        "# Разбиение на летние/зимние окна и отсечение игроков игравших в прошлом клубе меньше года"
      ]
    },
    {
      "cell_type": "markdown",
      "metadata": {
        "id": "Zldupou2TEGn"
      },
      "source": [
        "Вероятно нам нужно будет, чтобы у анализируемого игрока была статистика как минимум за последний год (в противном случае можно пользоваться таблицей выше). Значит нужно проверить, что в прошлое трансферное окно игрок не менял клуб."
      ]
    },
    {
      "cell_type": "markdown",
      "metadata": {
        "id": "lXRSdN0oT6Sk"
      },
      "source": [
        "Сначала разделим получившиеся трансферы на летние и зимние."
      ]
    },
    {
      "cell_type": "code",
      "metadata": {
        "id": "TWfT0gxaUBUT"
      },
      "source": [
        "frames2 = {}\r\n",
        "for year in years:\r\n",
        "  for comp in comps:\r\n",
        "    name = comp[:2] + \"_\" + year[2:] \r\n",
        "    df = frames[name]\r\n",
        "    summer = df[df['transfer_period'] == 'Summer']\r\n",
        "    winter = df[df['transfer_period'] == 'Winter']\r\n",
        "    name_s = comp[:2] + \"_\" + year[2:] + \"_sum\"\r\n",
        "    name_w = comp[:2] + \"_\" + year[2:] + \"_win\"\r\n",
        "    frames2[name_s] = summer\r\n",
        "    frames2[name_w] = winter"
      ],
      "execution_count": null,
      "outputs": []
    },
    {
      "cell_type": "markdown",
      "metadata": {
        "id": "OlWOXx8EVfis"
      },
      "source": [
        "Теперь нужно потребовать что бы в прошлое трансферное окно игрок никуда не переходил включая аренды. Заново скачаем переходы по всем окнам с зимы 17/18 по лето 20/21."
      ]
    },
    {
      "cell_type": "code",
      "metadata": {
        "id": "0Xm7XblvWsbO"
      },
      "source": [
        "years_tmp = [\"2017\", \"2018\", \"2019\", \"2020\"]\r\n",
        "frames_tmp = {}\r\n",
        "for year in years_tmp:\r\n",
        "  for comp in comps:\r\n",
        "    url = \"https://raw.githubusercontent.com/ewenme/transfers/master/data/\" + year + \"/\" + comp + \".csv\"\r\n",
        "    download = requests.get(url).content\r\n",
        "    df = pd.read_csv(io.StringIO(download.decode('utf-8')))\r\n",
        "    df = df[df['transfer_movement'] == 'in']\r\n",
        "    name_s = comp[:2] + \"_\" + year[2:] + \"_sum\"\r\n",
        "    name_w = comp[:2] + \"_\" + year[2:] + \"_win\"\r\n",
        "    if (year != \"2017\"):\r\n",
        "      frames_tmp[name_s] = df[df['transfer_period'] == 'Summer']\r\n",
        "    if (year != \"2020\"):\r\n",
        "      frames_tmp[name_w] = df[df['transfer_period'] == 'Winter']"
      ],
      "execution_count": null,
      "outputs": []
    },
    {
      "cell_type": "markdown",
      "metadata": {
        "id": "6p5SETqpalWg"
      },
      "source": [
        "Функция для получения названия предыдущего трансферного окна:"
      ]
    },
    {
      "cell_type": "code",
      "metadata": {
        "id": "IYvG_qAPYseN"
      },
      "source": [
        "def prev_window(window):\r\n",
        "  league = window[:2]\r\n",
        "  year = window[3:5]\r\n",
        "  season = window[6:]\r\n",
        "  if (season == \"sum\"):\r\n",
        "    pr_window = league + \"_\" + str(int(year) - 1) + \"_win\"\r\n",
        "    return pr_window\r\n",
        "  else:\r\n",
        "    pr_window = league + \"_\" + year + \"_sum\"\r\n",
        "    return pr_window "
      ],
      "execution_count": null,
      "outputs": []
    },
    {
      "cell_type": "markdown",
      "metadata": {
        "id": "co2-0jRWauk9"
      },
      "source": [
        "Теперь для каждого игрока из очищенного датафрейма проверим, что он никуда не переходил в прошлое окно."
      ]
    },
    {
      "cell_type": "code",
      "metadata": {
        "colab": {
          "base_uri": "https://localhost:8080/"
        },
        "id": "oIGrPCA1bFwv",
        "outputId": "c0026188-572e-4119-d554-674404460699"
      },
      "source": [
        "frames2['en_18_sum']"
      ],
      "execution_count": null,
      "outputs": [
        {
          "output_type": "execute_result",
          "data": {
            "text/html": [
              "<div>\n",
              "<style scoped>\n",
              "    .dataframe tbody tr th:only-of-type {\n",
              "        vertical-align: middle;\n",
              "    }\n",
              "\n",
              "    .dataframe tbody tr th {\n",
              "        vertical-align: top;\n",
              "    }\n",
              "\n",
              "    .dataframe thead th {\n",
              "        text-align: right;\n",
              "    }\n",
              "</style>\n",
              "<table border=\"1\" class=\"dataframe\">\n",
              "  <thead>\n",
              "    <tr style=\"text-align: right;\">\n",
              "      <th></th>\n",
              "      <th>club_name</th>\n",
              "      <th>player_name</th>\n",
              "      <th>age</th>\n",
              "      <th>position</th>\n",
              "      <th>club_involved_name</th>\n",
              "      <th>fee</th>\n",
              "      <th>transfer_movement</th>\n",
              "      <th>transfer_period</th>\n",
              "      <th>fee_cleaned</th>\n",
              "      <th>league_name</th>\n",
              "      <th>year</th>\n",
              "      <th>season</th>\n",
              "    </tr>\n",
              "  </thead>\n",
              "  <tbody>\n",
              "    <tr>\n",
              "      <th>0</th>\n",
              "      <td>Manchester City</td>\n",
              "      <td>Riyad Mahrez</td>\n",
              "      <td>27</td>\n",
              "      <td>Right Winger</td>\n",
              "      <td>Leicester City</td>\n",
              "      <td>£61.02m</td>\n",
              "      <td>in</td>\n",
              "      <td>Summer</td>\n",
              "      <td>61.02</td>\n",
              "      <td>Premier League</td>\n",
              "      <td>2018</td>\n",
              "      <td>2018/2019</td>\n",
              "    </tr>\n",
              "    <tr>\n",
              "      <th>3</th>\n",
              "      <td>Manchester City</td>\n",
              "      <td>Tosin Adarabioyo</td>\n",
              "      <td>21</td>\n",
              "      <td>Centre-Back</td>\n",
              "      <td>West Bromwich Albion</td>\n",
              "      <td>End of loanMay 31, 2019</td>\n",
              "      <td>in</td>\n",
              "      <td>Summer</td>\n",
              "      <td>0.00</td>\n",
              "      <td>Premier League</td>\n",
              "      <td>2018</td>\n",
              "      <td>2018/2019</td>\n",
              "    </tr>\n",
              "    <tr>\n",
              "      <th>9</th>\n",
              "      <td>Manchester City</td>\n",
              "      <td>Pablo Maffeo</td>\n",
              "      <td>20</td>\n",
              "      <td>Right-Back</td>\n",
              "      <td>Girona FC</td>\n",
              "      <td>End of loanJun 30, 2018</td>\n",
              "      <td>in</td>\n",
              "      <td>Summer</td>\n",
              "      <td>0.00</td>\n",
              "      <td>Premier League</td>\n",
              "      <td>2018</td>\n",
              "      <td>2018/2019</td>\n",
              "    </tr>\n",
              "    <tr>\n",
              "      <th>31</th>\n",
              "      <td>Manchester United</td>\n",
              "      <td>Lee Grant</td>\n",
              "      <td>35</td>\n",
              "      <td>Goalkeeper</td>\n",
              "      <td>Stoke City</td>\n",
              "      <td>£1.53m</td>\n",
              "      <td>in</td>\n",
              "      <td>Summer</td>\n",
              "      <td>1.53</td>\n",
              "      <td>Premier League</td>\n",
              "      <td>2018</td>\n",
              "      <td>2018/2019</td>\n",
              "    </tr>\n",
              "    <tr>\n",
              "      <th>36</th>\n",
              "      <td>Manchester United</td>\n",
              "      <td>Andreas Pereira</td>\n",
              "      <td>22</td>\n",
              "      <td>Attacking Midfield</td>\n",
              "      <td>Valencia CF</td>\n",
              "      <td>End of loanJun 30, 2018</td>\n",
              "      <td>in</td>\n",
              "      <td>Summer</td>\n",
              "      <td>0.00</td>\n",
              "      <td>Premier League</td>\n",
              "      <td>2018</td>\n",
              "      <td>2018/2019</td>\n",
              "    </tr>\n",
              "    <tr>\n",
              "      <th>...</th>\n",
              "      <td>...</td>\n",
              "      <td>...</td>\n",
              "      <td>...</td>\n",
              "      <td>...</td>\n",
              "      <td>...</td>\n",
              "      <td>...</td>\n",
              "      <td>...</td>\n",
              "      <td>...</td>\n",
              "      <td>...</td>\n",
              "      <td>...</td>\n",
              "      <td>...</td>\n",
              "      <td>...</td>\n",
              "    </tr>\n",
              "    <tr>\n",
              "      <th>525</th>\n",
              "      <td>Fulham FC</td>\n",
              "      <td>Calum Chambers</td>\n",
              "      <td>23</td>\n",
              "      <td>Centre-Back</td>\n",
              "      <td>Arsenal FC</td>\n",
              "      <td>Loan</td>\n",
              "      <td>in</td>\n",
              "      <td>Summer</td>\n",
              "      <td>0.00</td>\n",
              "      <td>Premier League</td>\n",
              "      <td>2018</td>\n",
              "      <td>2018/2019</td>\n",
              "    </tr>\n",
              "    <tr>\n",
              "      <th>526</th>\n",
              "      <td>Fulham FC</td>\n",
              "      <td>Sergio Rico</td>\n",
              "      <td>24</td>\n",
              "      <td>Goalkeeper</td>\n",
              "      <td>Sevilla FC</td>\n",
              "      <td>Loan</td>\n",
              "      <td>in</td>\n",
              "      <td>Summer</td>\n",
              "      <td>0.00</td>\n",
              "      <td>Premier League</td>\n",
              "      <td>2018</td>\n",
              "      <td>2018/2019</td>\n",
              "    </tr>\n",
              "    <tr>\n",
              "      <th>527</th>\n",
              "      <td>Fulham FC</td>\n",
              "      <td>Luciano Vietto</td>\n",
              "      <td>24</td>\n",
              "      <td>Centre-Forward</td>\n",
              "      <td>Atlético Madrid</td>\n",
              "      <td>Loan</td>\n",
              "      <td>in</td>\n",
              "      <td>Summer</td>\n",
              "      <td>0.00</td>\n",
              "      <td>Premier League</td>\n",
              "      <td>2018</td>\n",
              "      <td>2018/2019</td>\n",
              "    </tr>\n",
              "    <tr>\n",
              "      <th>528</th>\n",
              "      <td>Fulham FC</td>\n",
              "      <td>Timothy Fosu-Mensah</td>\n",
              "      <td>20</td>\n",
              "      <td>Right-Back</td>\n",
              "      <td>Manchester United</td>\n",
              "      <td>Loan</td>\n",
              "      <td>in</td>\n",
              "      <td>Summer</td>\n",
              "      <td>0.00</td>\n",
              "      <td>Premier League</td>\n",
              "      <td>2018</td>\n",
              "      <td>2018/2019</td>\n",
              "    </tr>\n",
              "    <tr>\n",
              "      <th>529</th>\n",
              "      <td>Fulham FC</td>\n",
              "      <td>Stefan Johansen</td>\n",
              "      <td>28</td>\n",
              "      <td>Central Midfield</td>\n",
              "      <td>West Bromwich Albion</td>\n",
              "      <td>End of loanMay 31, 2019</td>\n",
              "      <td>in</td>\n",
              "      <td>Summer</td>\n",
              "      <td>0.00</td>\n",
              "      <td>Premier League</td>\n",
              "      <td>2018</td>\n",
              "      <td>2018/2019</td>\n",
              "    </tr>\n",
              "  </tbody>\n",
              "</table>\n",
              "<p>101 rows × 12 columns</p>\n",
              "</div>"
            ],
            "text/plain": [
              "             club_name          player_name  ...  year     season\n",
              "0      Manchester City         Riyad Mahrez  ...  2018  2018/2019\n",
              "3      Manchester City     Tosin Adarabioyo  ...  2018  2018/2019\n",
              "9      Manchester City         Pablo Maffeo  ...  2018  2018/2019\n",
              "31   Manchester United            Lee Grant  ...  2018  2018/2019\n",
              "36   Manchester United      Andreas Pereira  ...  2018  2018/2019\n",
              "..                 ...                  ...  ...   ...        ...\n",
              "525          Fulham FC       Calum Chambers  ...  2018  2018/2019\n",
              "526          Fulham FC          Sergio Rico  ...  2018  2018/2019\n",
              "527          Fulham FC       Luciano Vietto  ...  2018  2018/2019\n",
              "528          Fulham FC  Timothy Fosu-Mensah  ...  2018  2018/2019\n",
              "529          Fulham FC      Stefan Johansen  ...  2018  2018/2019\n",
              "\n",
              "[101 rows x 12 columns]"
            ]
          },
          "metadata": {
            "tags": []
          },
          "execution_count": 72
        }
      ]
    },
    {
      "cell_type": "code",
      "metadata": {
        "id": "wISVA4dyhT3I"
      },
      "source": [
        "for window in frames2.keys():\r\n",
        "  frames2[window] = frames2[window][~frames2[window]['player_name'].isin(frames_tmp[prev_window(window)]['player_name'])]"
      ],
      "execution_count": null,
      "outputs": []
    },
    {
      "cell_type": "code",
      "metadata": {
        "colab": {
          "base_uri": "https://localhost:8080/"
        },
        "id": "WTrmsclQohh2",
        "outputId": "b20e1cb9-a3f7-4d37-c6ab-81e9ef83e5a5"
      },
      "source": [
        "frames2['en_18_sum']"
      ],
      "execution_count": null,
      "outputs": [
        {
          "output_type": "execute_result",
          "data": {
            "text/html": [
              "<div>\n",
              "<style scoped>\n",
              "    .dataframe tbody tr th:only-of-type {\n",
              "        vertical-align: middle;\n",
              "    }\n",
              "\n",
              "    .dataframe tbody tr th {\n",
              "        vertical-align: top;\n",
              "    }\n",
              "\n",
              "    .dataframe thead th {\n",
              "        text-align: right;\n",
              "    }\n",
              "</style>\n",
              "<table border=\"1\" class=\"dataframe\">\n",
              "  <thead>\n",
              "    <tr style=\"text-align: right;\">\n",
              "      <th></th>\n",
              "      <th>club_name</th>\n",
              "      <th>player_name</th>\n",
              "      <th>age</th>\n",
              "      <th>position</th>\n",
              "      <th>club_involved_name</th>\n",
              "      <th>fee</th>\n",
              "      <th>transfer_movement</th>\n",
              "      <th>transfer_period</th>\n",
              "      <th>fee_cleaned</th>\n",
              "      <th>league_name</th>\n",
              "      <th>year</th>\n",
              "      <th>season</th>\n",
              "    </tr>\n",
              "  </thead>\n",
              "  <tbody>\n",
              "    <tr>\n",
              "      <th>0</th>\n",
              "      <td>Manchester City</td>\n",
              "      <td>Riyad Mahrez</td>\n",
              "      <td>27</td>\n",
              "      <td>Right Winger</td>\n",
              "      <td>Leicester City</td>\n",
              "      <td>£61.02m</td>\n",
              "      <td>in</td>\n",
              "      <td>Summer</td>\n",
              "      <td>61.02</td>\n",
              "      <td>Premier League</td>\n",
              "      <td>2018</td>\n",
              "      <td>2018/2019</td>\n",
              "    </tr>\n",
              "    <tr>\n",
              "      <th>3</th>\n",
              "      <td>Manchester City</td>\n",
              "      <td>Tosin Adarabioyo</td>\n",
              "      <td>21</td>\n",
              "      <td>Centre-Back</td>\n",
              "      <td>West Bromwich Albion</td>\n",
              "      <td>End of loanMay 31, 2019</td>\n",
              "      <td>in</td>\n",
              "      <td>Summer</td>\n",
              "      <td>0.00</td>\n",
              "      <td>Premier League</td>\n",
              "      <td>2018</td>\n",
              "      <td>2018/2019</td>\n",
              "    </tr>\n",
              "    <tr>\n",
              "      <th>9</th>\n",
              "      <td>Manchester City</td>\n",
              "      <td>Pablo Maffeo</td>\n",
              "      <td>20</td>\n",
              "      <td>Right-Back</td>\n",
              "      <td>Girona FC</td>\n",
              "      <td>End of loanJun 30, 2018</td>\n",
              "      <td>in</td>\n",
              "      <td>Summer</td>\n",
              "      <td>0.00</td>\n",
              "      <td>Premier League</td>\n",
              "      <td>2018</td>\n",
              "      <td>2018/2019</td>\n",
              "    </tr>\n",
              "    <tr>\n",
              "      <th>31</th>\n",
              "      <td>Manchester United</td>\n",
              "      <td>Lee Grant</td>\n",
              "      <td>35</td>\n",
              "      <td>Goalkeeper</td>\n",
              "      <td>Stoke City</td>\n",
              "      <td>£1.53m</td>\n",
              "      <td>in</td>\n",
              "      <td>Summer</td>\n",
              "      <td>1.53</td>\n",
              "      <td>Premier League</td>\n",
              "      <td>2018</td>\n",
              "      <td>2018/2019</td>\n",
              "    </tr>\n",
              "    <tr>\n",
              "      <th>36</th>\n",
              "      <td>Manchester United</td>\n",
              "      <td>Andreas Pereira</td>\n",
              "      <td>22</td>\n",
              "      <td>Attacking Midfield</td>\n",
              "      <td>Valencia CF</td>\n",
              "      <td>End of loanJun 30, 2018</td>\n",
              "      <td>in</td>\n",
              "      <td>Summer</td>\n",
              "      <td>0.00</td>\n",
              "      <td>Premier League</td>\n",
              "      <td>2018</td>\n",
              "      <td>2018/2019</td>\n",
              "    </tr>\n",
              "    <tr>\n",
              "      <th>...</th>\n",
              "      <td>...</td>\n",
              "      <td>...</td>\n",
              "      <td>...</td>\n",
              "      <td>...</td>\n",
              "      <td>...</td>\n",
              "      <td>...</td>\n",
              "      <td>...</td>\n",
              "      <td>...</td>\n",
              "      <td>...</td>\n",
              "      <td>...</td>\n",
              "      <td>...</td>\n",
              "      <td>...</td>\n",
              "    </tr>\n",
              "    <tr>\n",
              "      <th>525</th>\n",
              "      <td>Fulham FC</td>\n",
              "      <td>Calum Chambers</td>\n",
              "      <td>23</td>\n",
              "      <td>Centre-Back</td>\n",
              "      <td>Arsenal FC</td>\n",
              "      <td>Loan</td>\n",
              "      <td>in</td>\n",
              "      <td>Summer</td>\n",
              "      <td>0.00</td>\n",
              "      <td>Premier League</td>\n",
              "      <td>2018</td>\n",
              "      <td>2018/2019</td>\n",
              "    </tr>\n",
              "    <tr>\n",
              "      <th>526</th>\n",
              "      <td>Fulham FC</td>\n",
              "      <td>Sergio Rico</td>\n",
              "      <td>24</td>\n",
              "      <td>Goalkeeper</td>\n",
              "      <td>Sevilla FC</td>\n",
              "      <td>Loan</td>\n",
              "      <td>in</td>\n",
              "      <td>Summer</td>\n",
              "      <td>0.00</td>\n",
              "      <td>Premier League</td>\n",
              "      <td>2018</td>\n",
              "      <td>2018/2019</td>\n",
              "    </tr>\n",
              "    <tr>\n",
              "      <th>527</th>\n",
              "      <td>Fulham FC</td>\n",
              "      <td>Luciano Vietto</td>\n",
              "      <td>24</td>\n",
              "      <td>Centre-Forward</td>\n",
              "      <td>Atlético Madrid</td>\n",
              "      <td>Loan</td>\n",
              "      <td>in</td>\n",
              "      <td>Summer</td>\n",
              "      <td>0.00</td>\n",
              "      <td>Premier League</td>\n",
              "      <td>2018</td>\n",
              "      <td>2018/2019</td>\n",
              "    </tr>\n",
              "    <tr>\n",
              "      <th>528</th>\n",
              "      <td>Fulham FC</td>\n",
              "      <td>Timothy Fosu-Mensah</td>\n",
              "      <td>20</td>\n",
              "      <td>Right-Back</td>\n",
              "      <td>Manchester United</td>\n",
              "      <td>Loan</td>\n",
              "      <td>in</td>\n",
              "      <td>Summer</td>\n",
              "      <td>0.00</td>\n",
              "      <td>Premier League</td>\n",
              "      <td>2018</td>\n",
              "      <td>2018/2019</td>\n",
              "    </tr>\n",
              "    <tr>\n",
              "      <th>529</th>\n",
              "      <td>Fulham FC</td>\n",
              "      <td>Stefan Johansen</td>\n",
              "      <td>28</td>\n",
              "      <td>Central Midfield</td>\n",
              "      <td>West Bromwich Albion</td>\n",
              "      <td>End of loanMay 31, 2019</td>\n",
              "      <td>in</td>\n",
              "      <td>Summer</td>\n",
              "      <td>0.00</td>\n",
              "      <td>Premier League</td>\n",
              "      <td>2018</td>\n",
              "      <td>2018/2019</td>\n",
              "    </tr>\n",
              "  </tbody>\n",
              "</table>\n",
              "<p>98 rows × 12 columns</p>\n",
              "</div>"
            ],
            "text/plain": [
              "             club_name          player_name  ...  year     season\n",
              "0      Manchester City         Riyad Mahrez  ...  2018  2018/2019\n",
              "3      Manchester City     Tosin Adarabioyo  ...  2018  2018/2019\n",
              "9      Manchester City         Pablo Maffeo  ...  2018  2018/2019\n",
              "31   Manchester United            Lee Grant  ...  2018  2018/2019\n",
              "36   Manchester United      Andreas Pereira  ...  2018  2018/2019\n",
              "..                 ...                  ...  ...   ...        ...\n",
              "525          Fulham FC       Calum Chambers  ...  2018  2018/2019\n",
              "526          Fulham FC          Sergio Rico  ...  2018  2018/2019\n",
              "527          Fulham FC       Luciano Vietto  ...  2018  2018/2019\n",
              "528          Fulham FC  Timothy Fosu-Mensah  ...  2018  2018/2019\n",
              "529          Fulham FC      Stefan Johansen  ...  2018  2018/2019\n",
              "\n",
              "[98 rows x 12 columns]"
            ]
          },
          "metadata": {
            "tags": []
          },
          "execution_count": 74
        }
      ]
    },
    {
      "cell_type": "markdown",
      "metadata": {
        "id": "9HM1faJNpHhh"
      },
      "source": [
        "Как видим в 'en_18_sum' стало на три игрока меньше."
      ]
    },
    {
      "cell_type": "markdown",
      "metadata": {
        "id": "b96loVgDTb0e"
      },
      "source": [
        "# Результат\r\n"
      ]
    },
    {
      "cell_type": "markdown",
      "metadata": {
        "id": "WHFlOc1yTpMH"
      },
      "source": [
        "Сделаем функцию для определения типа трансфера. 0 - обычный трансфер, 1 - свободный агент, 2 - аренда, 3 - возвращение из аренды."
      ]
    },
    {
      "cell_type": "code",
      "metadata": {
        "id": "GNxXHxJ3Tn8P"
      },
      "source": [
        "def transfer_type(fee):\r\n",
        "  if fee[0] == 'E':\r\n",
        "    return 3\r\n",
        "  if fee[0] == \"L\":\r\n",
        "    return 2\r\n",
        "  if fee[0] == \"F\":\r\n",
        "    return 1\r\n",
        "  return 0"
      ],
      "execution_count": null,
      "outputs": []
    },
    {
      "cell_type": "code",
      "metadata": {
        "id": "m_r2WuYBuF8g",
        "colab": {
          "base_uri": "https://localhost:8080/"
        },
        "outputId": "83757b32-8a4d-4cf9-a623-ed5175ed8601"
      },
      "source": [
        "for window in frames2:\r\n",
        "  df = frames2[window]\r\n",
        "  df['type'] = df.fee.apply(transfer_type)\r\n",
        "  frames2[window] = df"
      ],
      "execution_count": null,
      "outputs": [
        {
          "output_type": "stream",
          "text": [
            "/usr/local/lib/python3.6/dist-packages/ipykernel_launcher.py:3: SettingWithCopyWarning: \n",
            "A value is trying to be set on a copy of a slice from a DataFrame.\n",
            "Try using .loc[row_indexer,col_indexer] = value instead\n",
            "\n",
            "See the caveats in the documentation: https://pandas.pydata.org/pandas-docs/stable/user_guide/indexing.html#returning-a-view-versus-a-copy\n",
            "  This is separate from the ipykernel package so we can avoid doing imports until\n"
          ],
          "name": "stderr"
        }
      ]
    },
    {
      "cell_type": "markdown",
      "metadata": {
        "id": "E8t173UWOcIB"
      },
      "source": [
        "Объеденим все трансферные окна и посчитаем число трансферов каждого вида."
      ]
    },
    {
      "cell_type": "code",
      "metadata": {
        "id": "BVa5_G1IN4cU"
      },
      "source": [
        "Transfers = pd.concat(frames2)"
      ],
      "execution_count": null,
      "outputs": []
    },
    {
      "cell_type": "code",
      "metadata": {
        "colab": {
          "base_uri": "https://localhost:8080/"
        },
        "id": "-p7DUAF7OAtR",
        "outputId": "7ca59057-d222-4032-bbae-232721d97017"
      },
      "source": [
        "Transfers['type'].value_counts()"
      ],
      "execution_count": null,
      "outputs": [
        {
          "output_type": "execute_result",
          "data": {
            "text/plain": [
              "0    929\n",
              "2    493\n",
              "3    301\n",
              "1    143\n",
              "Name: type, dtype: int64"
            ]
          },
          "metadata": {
            "tags": []
          },
          "execution_count": 78
        }
      ]
    },
    {
      "cell_type": "code",
      "metadata": {
        "colab": {
          "base_uri": "https://localhost:8080/"
        },
        "id": "W9fR8vAlofRz",
        "outputId": "dc8a2374-e3c9-4008-a1b3-4b4712b74536"
      },
      "source": [
        "Transfers.position.value_counts()"
      ],
      "execution_count": null,
      "outputs": [
        {
          "output_type": "execute_result",
          "data": {
            "text/plain": [
              "Centre-Forward        315\n",
              "Centre-Back           298\n",
              "Central Midfield      242\n",
              "Goalkeeper            160\n",
              "Right Winger          152\n",
              "Right-Back            143\n",
              "Defensive Midfield    135\n",
              "Left-Back             133\n",
              "Left Winger           128\n",
              "Attacking Midfield    100\n",
              "Left Midfield          29\n",
              "Right Midfield         19\n",
              "Second Striker         11\n",
              "midfield                1\n",
              "Name: position, dtype: int64"
            ]
          },
          "metadata": {
            "tags": []
          },
          "execution_count": 79
        }
      ]
    },
    {
      "cell_type": "code",
      "metadata": {
        "id": "kiEhMJfxCi_k"
      },
      "source": [
        "Transfers.to_csv('Transfers.csv')"
      ],
      "execution_count": null,
      "outputs": []
    }
  ]
}